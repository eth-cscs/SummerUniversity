{
 "cells": [
  {
   "cell_type": "markdown",
   "id": "49d46a8a-9986-40e0-a69b-98e94c70ba42",
   "metadata": {},
   "source": [
    "# Multi-GPU programming with JAX"
   ]
  },
  {
   "cell_type": "code",
   "execution_count": 1,
   "id": "f48951b6-cfe7-4822-a222-85f56c82a09d",
   "metadata": {},
   "outputs": [],
   "source": [
    "import jax\n",
    "import numpy as np\n",
    "from timers import cpu_timer"
   ]
  },
  {
   "cell_type": "code",
   "execution_count": 2,
   "id": "7112544a-05df-447f-b341-662f3a2172a4",
   "metadata": {},
   "outputs": [],
   "source": [
    "gpus = jax.devices('gpu')"
   ]
  },
  {
   "cell_type": "code",
   "execution_count": 3,
   "id": "cc5a1ef1-4c82-4694-bcf7-3dba02d66e71",
   "metadata": {},
   "outputs": [
    {
     "name": "stdout",
     "output_type": "stream",
     "text": [
      "Device 0: cuda:0\n",
      "Device 1: cuda:1\n",
      "Device 2: cuda:2\n",
      "Device 3: cuda:3\n"
     ]
    }
   ],
   "source": [
    "for i, d in enumerate(gpus):\n",
    "    print(f\"Device {i}: {d}\")"
   ]
  },
  {
   "cell_type": "code",
   "execution_count": 4,
   "id": "85df6935-358d-4e04-964e-6de1b3fab0ae",
   "metadata": {},
   "outputs": [
    {
     "data": {
      "text/plain": [
       "4"
      ]
     },
     "execution_count": 4,
     "metadata": {},
     "output_type": "execute_result"
    }
   ],
   "source": [
    "jax.local_device_count()"
   ]
  },
  {
   "cell_type": "code",
   "execution_count": 5,
   "id": "165ca796-8fe0-47d6-8c5b-4172f20fb156",
   "metadata": {},
   "outputs": [],
   "source": [
    "mesh = jax.sharding.Mesh(jax.devices(), axis_names=['x'])"
   ]
  },
  {
   "cell_type": "code",
   "execution_count": 53,
   "id": "e5a82436-9ebe-400b-9aaa-7427f78faa0f",
   "metadata": {},
   "outputs": [],
   "source": [
    "x = jax.random.normal(jax.random.key(0), (16000, 16000))"
   ]
  },
  {
   "cell_type": "code",
   "execution_count": 54,
   "id": "cfa4cecd-bc2b-4147-98ac-954da7b192b7",
   "metadata": {},
   "outputs": [],
   "source": [
    "y = jax.device_put(x, jax.sharding.NamedSharding(mesh, jax.sharding.PartitionSpec('x', None)))"
   ]
  },
  {
   "cell_type": "code",
   "execution_count": 55,
   "id": "174aeb88-ff97-4efa-8225-172e3d4ba0f1",
   "metadata": {},
   "outputs": [
    {
     "data": {
      "text/plain": [
       "Array([  52.915867,   46.157303,  -26.998585, ...,  190.85838 ,\n",
       "         85.26398 , -303.00476 ], dtype=float32)"
      ]
     },
     "execution_count": 55,
     "metadata": {},
     "output_type": "execute_result"
    }
   ],
   "source": [
    "y.sum(axis=0)"
   ]
  },
  {
   "cell_type": "code",
   "execution_count": 56,
   "id": "c506849e-5751-48fc-a1c0-c61b031b3624",
   "metadata": {
    "scrolled": true
   },
   "outputs": [
    {
     "data": {
      "text/html": [
       "<pre style=\"white-space:pre;overflow-x:auto;line-height:normal;font-family:Menlo,'DejaVu Sans Mono',consolas,'Courier New',monospace\"><span style=\"color: #ffffff; text-decoration-color: #ffffff; background-color: #393b79\">                         </span>\n",
       "<span style=\"color: #ffffff; text-decoration-color: #ffffff; background-color: #393b79\">          GPU 0          </span>\n",
       "<span style=\"color: #ffffff; text-decoration-color: #ffffff; background-color: #393b79\">                         </span>\n",
       "<span style=\"color: #ffffff; text-decoration-color: #ffffff; background-color: #de9ed6\">                         </span>\n",
       "<span style=\"color: #ffffff; text-decoration-color: #ffffff; background-color: #de9ed6\">          GPU 1          </span>\n",
       "<span style=\"color: #ffffff; text-decoration-color: #ffffff; background-color: #de9ed6\">                         </span>\n",
       "<span style=\"color: #ffffff; text-decoration-color: #ffffff; background-color: #ad494a\">                         </span>\n",
       "<span style=\"color: #ffffff; text-decoration-color: #ffffff; background-color: #ad494a\">          GPU 2          </span>\n",
       "<span style=\"color: #ffffff; text-decoration-color: #ffffff; background-color: #ad494a\">                         </span>\n",
       "<span style=\"color: #000000; text-decoration-color: #000000; background-color: #b5cf6b\">                         </span>\n",
       "<span style=\"color: #000000; text-decoration-color: #000000; background-color: #b5cf6b\">          GPU 3          </span>\n",
       "<span style=\"color: #000000; text-decoration-color: #000000; background-color: #b5cf6b\">                         </span>\n",
       "</pre>\n"
      ],
      "text/plain": [
       "\u001b[38;2;255;255;255;48;2;57;59;121m                         \u001b[0m\n",
       "\u001b[38;2;255;255;255;48;2;57;59;121m          \u001b[0m\u001b[38;2;255;255;255;48;2;57;59;121mGPU 0\u001b[0m\u001b[38;2;255;255;255;48;2;57;59;121m          \u001b[0m\n",
       "\u001b[38;2;255;255;255;48;2;57;59;121m                         \u001b[0m\n",
       "\u001b[38;2;255;255;255;48;2;222;158;214m                         \u001b[0m\n",
       "\u001b[38;2;255;255;255;48;2;222;158;214m          \u001b[0m\u001b[38;2;255;255;255;48;2;222;158;214mGPU 1\u001b[0m\u001b[38;2;255;255;255;48;2;222;158;214m          \u001b[0m\n",
       "\u001b[38;2;255;255;255;48;2;222;158;214m                         \u001b[0m\n",
       "\u001b[38;2;255;255;255;48;2;173;73;74m                         \u001b[0m\n",
       "\u001b[38;2;255;255;255;48;2;173;73;74m          \u001b[0m\u001b[38;2;255;255;255;48;2;173;73;74mGPU 2\u001b[0m\u001b[38;2;255;255;255;48;2;173;73;74m          \u001b[0m\n",
       "\u001b[38;2;255;255;255;48;2;173;73;74m                         \u001b[0m\n",
       "\u001b[38;2;0;0;0;48;2;181;207;107m                         \u001b[0m\n",
       "\u001b[38;2;0;0;0;48;2;181;207;107m          \u001b[0m\u001b[38;2;0;0;0;48;2;181;207;107mGPU 3\u001b[0m\u001b[38;2;0;0;0;48;2;181;207;107m          \u001b[0m\n",
       "\u001b[38;2;0;0;0;48;2;181;207;107m                         \u001b[0m\n"
      ]
     },
     "metadata": {},
     "output_type": "display_data"
    }
   ],
   "source": [
    "jax.debug.visualize_array_sharding(y)"
   ]
  },
  {
   "cell_type": "code",
   "execution_count": 57,
   "id": "706f7491-f51f-4154-9dd4-2536f6eefd03",
   "metadata": {},
   "outputs": [],
   "source": [
    "@jax.jit\n",
    "def my_complex_sin(z):\n",
    "    y = jax.numpy.sin(z) + jax.numpy.cos(z) + z ** 2\n",
    "\n",
    "    return y.sum(axis=0)"
   ]
  },
  {
   "cell_type": "code",
   "execution_count": 58,
   "id": "a088c424-d991-4d68-bc6d-4fef4bed0044",
   "metadata": {},
   "outputs": [
    {
     "name": "stdout",
     "output_type": "stream",
     "text": [
      "Elapsed time: 109.63940399960848 ms\n"
     ]
    }
   ],
   "source": [
    "with cpu_timer(True):\n",
    "    z = my_complex_sin(x).block_until_ready()"
   ]
  },
  {
   "cell_type": "code",
   "execution_count": 59,
   "id": "1df3c3d0-4512-4605-8760-0eb6e032b981",
   "metadata": {},
   "outputs": [
    {
     "name": "stdout",
     "output_type": "stream",
     "text": [
      "Elapsed time: 72.65475099848118 ms\n"
     ]
    }
   ],
   "source": [
    "with cpu_timer(True):\n",
    "    z2 = my_complex_sin(y).block_until_ready()"
   ]
  },
  {
   "cell_type": "code",
   "execution_count": 60,
   "id": "b52dc427-85ce-47d3-8ccc-666bb66936a8",
   "metadata": {},
   "outputs": [
    {
     "data": {
      "text/plain": [
       "NamedSharding(mesh=Mesh('x': 4, axis_types=(Auto,)), spec=PartitionSpec(), memory_kind=device)"
      ]
     },
     "execution_count": 60,
     "metadata": {},
     "output_type": "execute_result"
    }
   ],
   "source": [
    "z2.sharding"
   ]
  },
  {
   "cell_type": "code",
   "execution_count": 82,
   "id": "b4939036-cee9-41d7-8835-e22b83c2630c",
   "metadata": {},
   "outputs": [
    {
     "name": "stdout",
     "output_type": "stream",
     "text": [
      "Elapsed time: 1181.931570994493 ms\n",
      "5.414268e+18\n"
     ]
    }
   ],
   "source": [
    "with cpu_timer(True):\n",
    "    z = y ** 2\n",
    "    for i in range(20):\n",
    "        z += y @ y @ y @ y @ y @ y @ y\n",
    "    z.sum().block_until_ready()\n",
    "print(z.sum())"
   ]
  },
  {
   "cell_type": "code",
   "execution_count": 83,
   "id": "1493cd66-2d2c-4982-8d01-aea22d539ac8",
   "metadata": {},
   "outputs": [
    {
     "name": "stdout",
     "output_type": "stream",
     "text": [
      "Elapsed time: 2564.825961002498 ms\n",
      "5.4146616e+18\n"
     ]
    }
   ],
   "source": [
    "with cpu_timer(True):\n",
    "    z = x ** 2\n",
    "    for i in range(20):\n",
    "        z += x @ x @ x @ x @ x @ x @ x\n",
    "print(z.sum())"
   ]
  },
  {
   "cell_type": "code",
   "execution_count": 30,
   "id": "56c2c0ee-2aaa-4961-b46c-159789137cfc",
   "metadata": {},
   "outputs": [
    {
     "data": {
      "text/plain": [
       "(Array(80721552., dtype=float32), Array(81084800., dtype=float32))"
      ]
     },
     "execution_count": 30,
     "metadata": {},
     "output_type": "execute_result"
    }
   ],
   "source": []
  },
  {
   "cell_type": "code",
   "execution_count": null,
   "id": "85430e0a-a6fa-427c-b414-13c44f984f39",
   "metadata": {},
   "outputs": [],
   "source": []
  }
 ],
 "metadata": {
  "kernelspec": {
   "display_name": "Python 3 (ipykernel)",
   "language": "python",
   "name": "python3"
  },
  "language_info": {
   "codemirror_mode": {
    "name": "ipython",
    "version": 3
   },
   "file_extension": ".py",
   "mimetype": "text/x-python",
   "name": "python",
   "nbconvert_exporter": "python",
   "pygments_lexer": "ipython3",
   "version": "3.12.3"
  }
 },
 "nbformat": 4,
 "nbformat_minor": 5
}
