{
 "cells": [
  {
   "cell_type": "markdown",
   "id": "a91a759c",
   "metadata": {
    "tags": []
   },
   "source": [
    "# Introduction to [JAX](https://github.com/google/jax) \n",
    "# Accelerator-oriented array computation and program transformation\n",
    "\n",
    "<div align=\"center\"><img src=\"https://raw.githubusercontent.com/google/jax/main/images/jax_logo.svg\" width=\"400\"/></div>"
   ]
  },
  {
   "cell_type": "code",
   "execution_count": 4,
   "id": "c98b942e",
   "metadata": {},
   "outputs": [],
   "source": [
    "from timers import cpu_timer"
   ]
  },
  {
   "cell_type": "markdown",
   "id": "6f4fa1cb",
   "metadata": {},
   "source": [
    "## NumPy functionality with JAX"
   ]
  },
  {
   "cell_type": "code",
   "execution_count": 5,
   "id": "aae3e5a7",
   "metadata": {},
   "outputs": [],
   "source": [
    "import os\n",
    "import numpy as np\n",
    "import jax.numpy as jnp\n",
    "import jax"
   ]
  },
  {
   "cell_type": "code",
   "execution_count": 6,
   "id": "1b74fbce",
   "metadata": {},
   "outputs": [],
   "source": [
    "x = jnp.arange(10)\n",
    "y = jnp.arange(10, 20)\n",
    "z = x + y"
   ]
  },
  {
   "cell_type": "markdown",
   "id": "07acf5d8",
   "metadata": {},
   "source": [
    "#### Euclidean distance matrix\n",
    "\n",
    "$\n",
    "    d_e(\\mathbf x, \\mathbf y) =\n",
    "    \\begin{bmatrix}\n",
    "    \\sum_{i=1}^n (x_{1i}-y_{1i})^2 & \\sum_{i=1}^n(x_{1i}-y_{2i})^2 & \\cdots & \\sum_{i=1}^n (x_{1i}-y_{ni})^2 \\\\  \n",
    "    \\sum_{i=1}^n(x_{2i}-y_{1i})^2 & \\sum_{i=1}^n(x_{2i}-y_{2i})^2 & \\cdots & \\sum_{i=1}^n(x_{2i}-y_{ni})^2 \\\\  \n",
    "    \\vdots & \\vdots & \\ddots & \\vdots \\\\\n",
    "    \\sum_{i=1}^n(x_{ni}-y_{1i})^2 & \\sum_{i=1}^n(x_{ni}-y_{2i})^2 & \\cdots & \\sum_{i=1}^n(x_{ni}-y_{ni})^2 \\\\  \n",
    "    \\end{bmatrix}\n",
    "$\n",
    "\n",
    "#### Vectorization friendly summation \n",
    "$ \n",
    "\\sum_{k=1}^n \\left(x_{ik}-y_{jk}\\right)^2 = \\left(\\vec{x_i} - \\vec {y_j}\\right)\\cdot \\left(\\vec{x_i} - \\vec{y_j}\\right)=\\vec{x_i} \\cdot \\vec{x_i} + \\vec{y_j} \\cdot \\vec{y_j} -2\\vec{x_i}\\cdot \\vec{y_j}$\n"
   ]
  },
  {
   "cell_type": "code",
   "execution_count": 7,
   "id": "f3f941dc",
   "metadata": {},
   "outputs": [],
   "source": [
    "def euclidean_distance_cpu(x, y):\n",
    "    x2 = np.einsum('ij,ij->i', x, x)[:, np.newaxis]\n",
    "    y2 = np.einsum('ij,ij->i', y, y)[np.newaxis, :]\n",
    "    xy = x @ y.T\n",
    "    return np.abs(x2 + y2 - 2.0 * xy)\n",
    "\n",
    "@jax.jit\n",
    "def euclidean_distance_jax(x, y):\n",
    "    x2 = jnp.einsum('ij,ij->i', x, x)[:, jnp.newaxis]\n",
    "    y2 = jnp.einsum('ij,ij->i', y, y)[jnp.newaxis, :]\n",
    "    xy = x @ y.T\n",
    "    return jnp.abs(x2 + y2 - 2.0 * xy)"
   ]
  },
  {
   "cell_type": "code",
   "execution_count": 8,
   "id": "f057d56b",
   "metadata": {},
   "outputs": [
    {
     "ename": "AssertionError",
     "evalue": "",
     "output_type": "error",
     "traceback": [
      "\u001b[31m---------------------------------------------------------------------------\u001b[39m",
      "\u001b[31mAssertionError\u001b[39m                            Traceback (most recent call last)",
      "\u001b[36mCell\u001b[39m\u001b[36m \u001b[39m\u001b[32mIn[8]\u001b[39m\u001b[32m, line 15\u001b[39m\n\u001b[32m     11\u001b[39m \u001b[38;5;28;01mwith\u001b[39;00m cpu_timer():\n\u001b[32m     12\u001b[39m     eu_jax = euclidean_distance_jax(x_gpu, y_gpu).block_until_ready()\n\u001b[32m---> \u001b[39m\u001b[32m15\u001b[39m \u001b[38;5;28;01massert\u001b[39;00m np.allclose(eu_cpu, jax.device_get(eu_jax), rtol=\u001b[32m1e-04\u001b[39m)\n",
      "\u001b[31mAssertionError\u001b[39m: "
     ]
    }
   ],
   "source": [
    "np_rng = np.random.default_rng()\n",
    "x_cpu = np_rng.random((5000, 4000), dtype=np.float32)\n",
    "y_cpu = np_rng.random((5000, 4000), dtype=np.float32)\n",
    "\n",
    "x_gpu = jax.device_put(x_cpu).block_until_ready()\n",
    "y_gpu = jax.device_put(y_cpu).block_until_ready()\n",
    "\n",
    "with cpu_timer():\n",
    "    eu_cpu = euclidean_distance_cpu(x_cpu, y_cpu)\n",
    "\n",
    "with cpu_timer():\n",
    "    eu_jax = euclidean_distance_jax(x_gpu, y_gpu).block_until_ready()\n",
    "    \n",
    "    \n",
    "assert np.allclose(eu_cpu, jax.device_get(eu_jax), rtol=1e-04)"
   ]
  },
  {
   "cell_type": "code",
   "execution_count": 9,
   "id": "5c67483d",
   "metadata": {},
   "outputs": [
    {
     "data": {
      "text/plain": [
       "Array([ 1.,  2., 10.,  4.], dtype=float32)"
      ]
     },
     "execution_count": 9,
     "metadata": {},
     "output_type": "execute_result"
    }
   ],
   "source": [
    "A = jnp.array([1., 2., 3., 4.])\n",
    "B = jnp.array([2., 3., 4., 5.])\n",
    "\n",
    "# This is not allowed\n",
    "#A[2] = 10.0\n",
    "\n",
    "A.at[2].set(10.0)"
   ]
  },
  {
   "cell_type": "code",
   "execution_count": null,
   "id": "34b91aa9",
   "metadata": {},
   "outputs": [],
   "source": [
    "print(A)"
   ]
  },
  {
   "cell_type": "markdown",
   "id": "bdb8c560",
   "metadata": {},
   "source": [
    "### Random number generation"
   ]
  },
  {
   "cell_type": "code",
   "execution_count": 10,
   "id": "2b4e0202",
   "metadata": {},
   "outputs": [
    {
     "name": "stdout",
     "output_type": "stream",
     "text": [
      "[[0.947667   0.9785799 ]\n",
      " [0.33229148 0.46866846]]\n",
      "[[0.947667   0.9785799 ]\n",
      " [0.33229148 0.46866846]]\n"
     ]
    }
   ],
   "source": [
    "key = jax.random.key(0)\n",
    "x = jax.random.uniform(key, (2, 2))\n",
    "y = jax.random.uniform(key,(2, 2))\n",
    "print(x)\n",
    "print(y)"
   ]
  },
  {
   "cell_type": "code",
   "execution_count": 11,
   "id": "18cc3453",
   "metadata": {},
   "outputs": [
    {
     "name": "stdout",
     "output_type": "stream",
     "text": [
      "[[0.8423141  0.18237865]\n",
      " [0.2271781  0.12072563]]\n",
      "[[0.00729382 0.02089119]\n",
      " [0.5814265  0.36183798]]\n"
     ]
    }
   ],
   "source": [
    "key = jax.random.key(0)\n",
    "key, subkey = jax.random.split(key)\n",
    "\n",
    "x = jax.random.uniform(key, (2, 2))\n",
    "y = jax.random.uniform(subkey, (2, 2))\n",
    "print(x)\n",
    "print(y)"
   ]
  },
  {
   "cell_type": "code",
   "execution_count": 12,
   "id": "5f0bfe8d-613d-4a2e-9646-2d294edf2243",
   "metadata": {},
   "outputs": [],
   "source": [
    "x = jnp.array([1., 2])"
   ]
  },
  {
   "cell_type": "code",
   "execution_count": 13,
   "id": "059dba29-5b95-49b6-9f65-762c9190a2cd",
   "metadata": {},
   "outputs": [
    {
     "data": {
      "text/plain": [
       "{CudaDevice(id=0)}"
      ]
     },
     "execution_count": 13,
     "metadata": {},
     "output_type": "execute_result"
    }
   ],
   "source": [
    "x.devices()"
   ]
  },
  {
   "cell_type": "markdown",
   "id": "7f867954",
   "metadata": {},
   "source": [
    "### Scaled Exponential Linear Unit (SELU) [Klambauer et al., 2017](https://arxiv.org/abs/1706.02515)\n",
    "\n",
    "\n",
    "$$\n",
    "f(x) =  \\left\\{\n",
    "\\begin{array}{ll}\n",
    "      \\lambda x & if & x \\gt 0 \\\\\n",
    "      \\lambda \\alpha (e^x - 1) & if & x \\le 0 \n",
    "\\end{array} \\right.\n",
    "$$\n",
    "\n",
    "$$\n",
    "\\begin{array}{ll}\n",
    "    \\alpha \\simeq 1.67326 \\\\\n",
    "    \\lambda \\simeq 1.050701\n",
    "\\end{array}\n",
    "$$"
   ]
  },
  {
   "cell_type": "code",
   "execution_count": 14,
   "id": "71e139f9",
   "metadata": {
    "scrolled": true
   },
   "outputs": [
    {
     "name": "stdout",
     "output_type": "stream",
     "text": [
      "SELU Cpu: SELU JAX: "
     ]
    },
    {
     "data": {
      "image/png": "[encoded data removed]",
      "text/plain": [
       "<Figure size 640x480 with 1 Axes>"
      ]
     },
     "metadata": {},
     "output_type": "display_data"
    }
   ],
   "source": [
    "import matplotlib.pyplot as plt\n",
    "\n",
    "from math import erfc, sqrt, exp, pi, e\n",
    "x_cpu = np.linspace(-10.0, 10.0, 10_000_000)\n",
    "\n",
    "\n",
    "alpha =  - sqrt(2.0 / pi) / (erfc(1 / sqrt(2)) * exp(1/2) - 1)\n",
    "scale = (\n",
    "    (1 - erfc(1 / sqrt(2)) * sqrt(e)) * sqrt(2 * pi) / \n",
    "    sqrt(2 * erfc(sqrt(2)) * e ** 2 + pi * e * erfc(1/sqrt(2)) ** 2 \n",
    "         - 2 * (2 + pi)* erfc(1 / sqrt(2))*sqrt(e) + pi + 2)\n",
    ")\n",
    "\n",
    "def selu_cpu(x, a=alpha, l=scale):\n",
    "    return np.where(x > 0, l * x, l * (a * np.exp(x) - a))\n",
    "\n",
    "print('SELU Cpu: ', end='')\n",
    "with cpu_timer():\n",
    "    s_cpu = selu_cpu(x_cpu)\n",
    "    \n",
    "def selu_jax(x, a=alpha, l=scale):\n",
    "    return jnp.where(x > 0, l * x, l * (a * jnp.exp(x) - a))\n",
    "\n",
    "x_jax = jnp.linspace(-10., 10., 10_000_000)\n",
    "\n",
    "print('SELU JAX: ', end='')\n",
    "with cpu_timer():\n",
    "    s_jax = selu_jax(x_jax).block_until_ready()\n",
    "\n",
    "plt.close('all')\n",
    "fig = plt.figure()\n",
    "ax = fig.add_subplot(111)\n",
    "ax.plot(x_cpu, s_cpu, '--');\n",
    "ax.set_title('SELU function', )\n",
    "ax.set_xlabel('x')\n",
    "ax.set_ylabel('y(x)')\n",
    "ax.grid('Both');"
   ]
  },
  {
   "cell_type": "markdown",
   "id": "33374976",
   "metadata": {},
   "source": [
    "### (Exercise) Do the same with JAX and measure the performance"
   ]
  },
  {
   "cell_type": "code",
   "execution_count": 15,
   "id": "93932e8d-6528-41da-8998-87ec86f7dc53",
   "metadata": {},
   "outputs": [],
   "source": [
    "def fun1(x):\n",
    "    return x ** 2 + 10 * jnp.sin(x) + jnp.exp(x/10)"
   ]
  },
  {
   "cell_type": "code",
   "execution_count": 16,
   "id": "4a85d2fb-a8b7-4d1c-aa09-f49a3bcb195f",
   "metadata": {},
   "outputs": [],
   "source": [
    "import jax"
   ]
  },
  {
   "cell_type": "code",
   "execution_count": 17,
   "id": "65e6d195-1c43-4b52-bf5b-9212392a9577",
   "metadata": {},
   "outputs": [],
   "source": [
    "x = jnp.linspace(-10, 10, 100)"
   ]
  },
  {
   "cell_type": "code",
   "execution_count": 18,
   "id": "bcb554fb-8162-44d5-b223-1bc7e99194b4",
   "metadata": {},
   "outputs": [],
   "source": [
    "y = fun1(x)\n",
    "y1 = jax.grad(fun1)\n",
    "y2 = jax.grad(y1)"
   ]
  },
  {
   "cell_type": "code",
   "execution_count": 19,
   "id": "42d21cf8-7385-421c-9b39-894d0780d763",
   "metadata": {},
   "outputs": [
    {
     "data": {
      "text/plain": [
       "[<matplotlib.lines.Line2D at 0x40049ff67800>]"
      ]
     },
     "execution_count": 19,
     "metadata": {},
     "output_type": "execute_result"
    },
    {
     "data": {
      "image/png": "[encoded data removed]",
      "text/plain": [
       "<Figure size 640x480 with 1 Axes>"
      ]
     },
     "metadata": {},
     "output_type": "display_data"
    }
   ],
   "source": [
    "plt.plot(x, y)\n",
    "plt.plot(x, jax.vmap(y1)(x))\n",
    "plt.plot(x, jax.vmap(y2)(x))"
   ]
  },
  {
   "cell_type": "markdown",
   "id": "736e21f2-d104-4ccf-8f15-973670c1123d",
   "metadata": {},
   "source": [
    "## Controlling memory allocation"
   ]
  },
  {
   "cell_type": "code",
   "execution_count": null,
   "id": "b37f37eb-bb07-43d0-86fd-82cceff3bfe8",
   "metadata": {},
   "outputs": [],
   "source": [
    "#os.environ['XLA_PYTHON_CLIENT_PREALLOCATE']='false'"
   ]
  },
  {
   "cell_type": "markdown",
   "id": "1930d460-9159-4072-9c06-e6a016755885",
   "metadata": {},
   "source": [
    "## 64-bit Floating Point computations"
   ]
  },
  {
   "cell_type": "code",
   "execution_count": null,
   "id": "4c4ffe30-cf11-4cad-9661-653e10dd40b0",
   "metadata": {},
   "outputs": [],
   "source": [
    "#os.environ['JAX_ENABLE_X64']='True'"
   ]
  }
 ],
 "metadata": {
  "kernelspec": {
   "display_name": "Python 3 (ipykernel)",
   "language": "python",
   "name": "python3"
  },
  "language_info": {
   "codemirror_mode": {
    "name": "ipython",
    "version": 3
   },
   "file_extension": ".py",
   "mimetype": "text/x-python",
   "name": "python",
   "nbconvert_exporter": "python",
   "pygments_lexer": "ipython3",
   "version": "3.12.3"
  }
 },
 "nbformat": 4,
 "nbformat_minor": 5
}
