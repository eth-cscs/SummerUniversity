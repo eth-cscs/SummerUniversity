{
 "cells": [
  {
   "cell_type": "markdown",
   "metadata": {},
   "source": [
    "# Multi-GPU Computing with [CuPy](https://cupy.chainer.org/) (Exercise)"
   ]
  },
  {
   "cell_type": "code",
   "execution_count": null,
   "metadata": {},
   "outputs": [],
   "source": [
    "import numpy as np\n",
    "import matplotlib.pyplot as plt\n",
    "import cupy as cp"
   ]
  },
  {
   "cell_type": "code",
   "execution_count": null,
   "metadata": {},
   "outputs": [],
   "source": [
    "mandelbrot_kernel = cp.ElementwiseKernel('float64 X, float64 Y, int32 itermax, float64 radius2',\n",
    "                                         'int32 mandelbrot',\n",
    "                                         '''\n",
    "                                         mandelbrot = 0;\n",
    "                                         double cx = X, cy = Y;\n",
    "                                         double x = cx, y = cy;\n",
    "                                         double xtemp;\n",
    "                                         int nit = 0;\n",
    "                                         while (x * x + y * y < radius2 && nit < itermax) {\n",
    "                                             xtemp = x * x - y * y + cx;\n",
    "                                             y = 2.0 * x * y + cy;\n",
    "                                             x = xtemp;\n",
    "                                             nit += 1;\n",
    "                                         }\n",
    "                                         mandelbrot = nit;''', 'mandelbrot_kernel')"
   ]
  },
  {
   "cell_type": "code",
   "execution_count": null,
   "metadata": {},
   "outputs": [],
   "source": [
    "xmin, xmax = -2.0, 1.0\n",
    "ymin, ymax = -1.0, 1.0\n",
    "X, Y = cp.meshgrid(cp.linspace(xmin , xmax, 5000), cp.linspace(ymin, ymax, 5000))\n",
    "mandelbrot_array = mandelbrot_kernel(X, Y, 1000, 4.0)\n",
    "fig = plt.figure(figsize=(15, 10))\n",
    "ax = fig.add_subplot(111)\n",
    "mandelbrot_array = mandelbrot_array[::5, ::5].get()\n",
    "ax.imshow(np.log(1 + mandelbrot_array), extent=[xmin, xmax, ymin, ymax]);\n",
    "ax.set_aspect('equal')\n",
    "ax.set_ylabel('Im[c]')\n",
    "ax.set_xlabel('Re[c]');"
   ]
  },
  {
   "cell_type": "markdown",
   "metadata": {},
   "source": [
    "#### <mark>Exercise</mark> Do the same computation by splitting the work between the GPUs"
   ]
  }
 ],
 "metadata": {
  "kernelspec": {
   "display_name": "Python 3 (ipykernel)",
   "language": "python",
   "name": "python3"
  },
  "language_info": {
   "codemirror_mode": {
    "name": "ipython",
    "version": 3
   },
   "file_extension": ".py",
   "mimetype": "text/x-python",
   "name": "python",
   "nbconvert_exporter": "python",
   "pygments_lexer": "ipython3",
   "version": "3.12.3"
  }
 },
 "nbformat": 4,
 "nbformat_minor": 4
}
