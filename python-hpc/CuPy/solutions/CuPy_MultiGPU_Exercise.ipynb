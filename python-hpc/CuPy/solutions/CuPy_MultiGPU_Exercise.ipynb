{
 "cells": [
  {
   "cell_type": "markdown",
   "metadata": {},
   "source": [
    "# Multi-GPU Computing with [CuPy](https://cupy.chainer.org/) (Exercise)"
   ]
  },
  {
   "cell_type": "code",
   "execution_count": null,
   "metadata": {},
   "outputs": [],
   "source": [
    "import numpy as np\n",
    "import matplotlib.pyplot as plt\n",
    "import cupy as cp\n",
    "from cupy.cuda import Device\n",
    "from timers import cupy_timer, cpu_timer"
   ]
  },
  {
   "cell_type": "code",
   "execution_count": null,
   "metadata": {},
   "outputs": [],
   "source": [
    "mandelbrot_kernel = cp.ElementwiseKernel('float64 X, float64 Y, int32 itermax, float64 radius2',\n",
    "                                         'int32 mandelbrot',\n",
    "                                         '''\n",
    "                                         mandelbrot = 0;\n",
    "                                         double cx = X, cy = Y;\n",
    "                                         double x = cx, y = cy;\n",
    "                                         double xtemp;\n",
    "                                         int nit = 0;\n",
    "                                         while (x * x + y * y < radius2 && nit < itermax) {\n",
    "                                             xtemp = x * x - y * y + cx;\n",
    "                                             y = 2.0 * x * y + cy;\n",
    "                                             x = xtemp;\n",
    "                                             nit += 1;\n",
    "                                         }\n",
    "                                         mandelbrot = nit;''', 'mandelbrot_kernel')"
   ]
  },
  {
   "cell_type": "code",
   "execution_count": null,
   "metadata": {},
   "outputs": [],
   "source": [
    "xmin, xmax = -2.0, 1.0\n",
    "ymin, ymax = -1.0, 1.0\n",
    "with cupy_timer(True) as timer:\n",
    "    X, Y = cp.meshgrid(cp.linspace(xmin , xmax, 25000), cp.linspace(ymin, ymax, 25000))\n",
    "    mandelbrot_array = mandelbrot_kernel(X, Y, 10000, 4.0)\n",
    "# fig = plt.figure(figsize=(15, 10))\n",
    "# ax = fig.add_subplot(111)\n",
    "# mandelbrot_array = mandelbrot_array[::100, ::100].get()\n",
    "# ax.imshow(np.log(1 + mandelbrot_array), extent=[xmin, xmax, ymin, ymax]);\n",
    "# ax.set_aspect('equal')\n",
    "# ax.set_ylabel('Im[c]')\n",
    "# ax.set_xlabel('Re[c]');"
   ]
  },
  {
   "cell_type": "markdown",
   "metadata": {},
   "source": [
    "#### <mark>Solution</mark> Do the same computation by splitting the work between the GPUs"
   ]
  },
  {
   "cell_type": "markdown",
   "metadata": {},
   "source": [
    "#### Split by columns"
   ]
  },
  {
   "cell_type": "code",
   "execution_count": null,
   "metadata": {},
   "outputs": [],
   "source": [
    "xmin, xmax = -2.0, 1.0\n",
    "ymin, ymax = -1.0, 1.0\n",
    "\n",
    "rows = 25000\n",
    "cols = 25000\n",
    "total_gpus = 4\n",
    "mandelbrot_arrays = [None] * total_gpus \n",
    "local_cols = cols // 4\n",
    "for i in range(total_gpus):\n",
    "    with Device(i):\n",
    "        xmin_local = xmin + (xmax - xmin) / total_gpus * i\n",
    "        xmax_local = xmin_local + (xmax - xmin) / total_gpus\n",
    "        X, Y = cp.meshgrid(cp.linspace(xmin_local , xmax_local, local_cols), cp.linspace(ymin, ymax, rows))\n",
    "        mandelbrot_arrays[i] = mandelbrot_kernel(X, Y, 10000, 4.0) + i * 10\n",
    "\n",
    "\n",
    "# array = cp.hstack(mandelbrot_arrays).get()\n",
    "# fig = plt.figure(figsize=(15, 10))\n",
    "# ax = fig.add_subplot(111)\n",
    "# ax.imshow(np.log(1 + array), extent=[xmin, xmax, ymin, ymax]);\n",
    "# ax.set_aspect('equal')\n",
    "# ax.set_ylabel('Im[c]')\n",
    "# ax.set_xlabel('Re[c]');"
   ]
  },
  {
   "cell_type": "markdown",
   "metadata": {},
   "source": [
    "#### Split by rows"
   ]
  },
  {
   "cell_type": "code",
   "execution_count": null,
   "metadata": {},
   "outputs": [],
   "source": [
    "xmin, xmax = -2.0, 1.0\n",
    "ymin, ymax = -1.0, 1.0\n",
    "\n",
    "rows = 25000\n",
    "cols = 25000\n",
    "total_gpus = 4\n",
    "mandelbrot_arrays = [None] * total_gpus \n",
    "local_rows = rows // 4\n",
    "streams = []\n",
    "with cpu_timer(True) as timer:\n",
    "    for i in range(total_gpus):\n",
    "        with Device(i):\n",
    "            with cp.cuda.Stream() as s:\n",
    "                ymin_local = ymin + (ymax - ymin) / total_gpus * i\n",
    "                ymax_local = ymin_local + (ymax - ymin) / total_gpus\n",
    "                X, Y = cp.meshgrid(cp.linspace(xmin , xmax, cols), cp.linspace(ymin_local, ymax_local, local_rows))\n",
    "                mandelbrot_arrays[i] = mandelbrot_kernel(X, Y, 10000, 4.0) + i * 10\n",
    "                streams.append(s)\n",
    "    \n",
    "    for s in streams:\n",
    "        s.synchronize()\n",
    "        \n",
    "# array = cp.vstack(mandelbrot_arrays).get()\n",
    "# fig = plt.figure(figsize=(15, 10))\n",
    "# ax = fig.add_subplot(111)\n",
    "# ax.imshow(np.log(1 + array), extent=[xmin, xmax, ymin, ymax]);\n",
    "# ax.set_aspect('equal')\n",
    "# ax.set_ylabel('Im[c]')\n",
    "# ax.set_xlabel('Re[c]');"
   ]
  },
  {
   "cell_type": "markdown",
   "metadata": {},
   "source": [
    "#### Split by rows and columns"
   ]
  },
  {
   "cell_type": "code",
   "execution_count": null,
   "metadata": {},
   "outputs": [],
   "source": [
    "xmin, xmax = -2.0, 1.0\n",
    "ymin, ymax = -1.0, 1.0\n",
    "\n",
    "rows = 50000\n",
    "cols = 50000\n",
    "gpus_x = 2\n",
    "gpus_y = 2\n",
    "mandelbrot_arrays = [[None, None], [None, None]]\n",
    "streams = []\n",
    "\n",
    "with cpu_timer(True) as timer:\n",
    "    for r in range(gpus_y):\n",
    "        for c in range(gpus_x):\n",
    "            with Device(r * gpus_x + c):\n",
    "                with cp.cuda.Stream() as s:\n",
    "                    ymin_local = ymin + (ymax - ymin) / gpus_y * c\n",
    "                    ymax_local = ymin_local + (ymax - ymin) / gpus_y\n",
    "                    xmin_local = xmin + (xmax - xmin) / gpus_x * r\n",
    "                    xmax_local = xmin_local + (xmax - xmin) / gpus_x\n",
    "                    X, Y = cp.meshgrid(cp.linspace(xmin_local , xmax_local, cols // gpus_x), cp.linspace(ymin_local, ymax_local, rows//gpus_y))\n",
    "                    mandelbrot_arrays[r][c] = mandelbrot_kernel(X, Y, 100, 4.0) + r * 10 + c * 20\n",
    "                    streams.append(s)\n",
    "    \n",
    "    for s in streams:\n",
    "        s.synchronize()\n",
    "\n",
    "for i in range(1000):\n",
    "    array = cp.vstack([cp.hstack([mandelbrot_arrays[i][j].get() for i in range(gpus_y)]) for j in range(gpus_x)]).get()\n",
    "# fig = plt.figure(figsize=(15, 10))\n",
    "# ax = fig.add_subplot(111)\n",
    "# ax.imshow(np.log(1 + array), extent=[xmin, xmax, ymin, ymax]);\n",
    "# ax.set_aspect('equal')\n",
    "# ax.set_ylabel('Im[c]')\n",
    "# ax.set_xlabel('Re[c]');"
   ]
  },
  {
   "cell_type": "code",
   "execution_count": null,
   "metadata": {},
   "outputs": [],
   "source": []
  }
 ],
 "metadata": {
  "kernelspec": {
   "display_name": "Python 3 (ipykernel)",
   "language": "python",
   "name": "python3"
  },
  "language_info": {
   "codemirror_mode": {
    "name": "ipython",
    "version": 3
   },
   "file_extension": ".py",
   "mimetype": "text/x-python",
   "name": "python",
   "nbconvert_exporter": "python",
   "pygments_lexer": "ipython3",
   "version": "3.12.3"
  }
 },
 "nbformat": 4,
 "nbformat_minor": 4
}
